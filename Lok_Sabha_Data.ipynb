{
  "nbformat": 4,
  "nbformat_minor": 0,
  "metadata": {
    "colab": {
      "provenance": [],
      "authorship_tag": "ABX9TyM5g3zad2IN1A0M9aTOPrFJ",
      "include_colab_link": true
    },
    "kernelspec": {
      "name": "python3",
      "display_name": "Python 3"
    },
    "language_info": {
      "name": "python"
    }
  },
  "cells": [
    {
      "cell_type": "markdown",
      "metadata": {
        "id": "view-in-github",
        "colab_type": "text"
      },
      "source": [
        "<a href=\"https://colab.research.google.com/github/vaibhavjisri/Data-Science/blob/main/Lok_Sabha_Data.ipynb\" target=\"_parent\"><img src=\"https://colab.research.google.com/assets/colab-badge.svg\" alt=\"Open In Colab\"/></a>"
      ]
    },
    {
      "cell_type": "code",
      "execution_count": 81,
      "metadata": {
        "id": "CBngED4bAi7r"
      },
      "outputs": [],
      "source": [
        "# Open and read the file loksabha.xls\n",
        "\n",
        "import pandas as pd\n",
        "import numpy as np\n",
        "df = pd.read_excel('loksabha.xls')"
      ]
    },
    {
      "cell_type": "code",
      "source": [
        "df.rename(columns={\"Name of Member\": \"Member\"}, inplace='True')\n"
      ],
      "metadata": {
        "id": "KGByjPh9GEGK"
      },
      "execution_count": 83,
      "outputs": []
    },
    {
      "cell_type": "code",
      "source": [
        "df.rename(columns={\"No. of days member signed the register\": \"Attendance\"}, inplace='True')"
      ],
      "metadata": {
        "id": "Gct7FodVIfxX"
      },
      "execution_count": 84,
      "outputs": []
    },
    {
      "cell_type": "code",
      "source": [
        "# Highest attendance, ignoring it when it is a Minister (as they don't enter attendance)\n",
        "highest_attendance = df['Attendance'].replace('M', np.nan).max()\n",
        "highest_attendance_member = df[df['Attendance'] == highest_attendance]['Member'].iloc[0]\n",
        "print(\"Member with the highest Attendance is:\",highest_attendance_member)\n",
        "print(\"and the Attendance is:\",highest_attendance)"
      ],
      "metadata": {
        "colab": {
          "base_uri": "https://localhost:8080/"
        },
        "id": "73tNerSqQhC9",
        "outputId": "e322fce1-301e-41a2-cb41-9df802b5ae80"
      },
      "execution_count": 91,
      "outputs": [
        {
          "output_type": "stream",
          "name": "stdout",
          "text": [
            "Member with the highest Attendance is: Shri    Ramkishun                                         \n",
            "and the Attendance is: 35.0\n"
          ]
        }
      ]
    },
    {
      "cell_type": "code",
      "source": [
        "# Contituency of the Member with the highest attendance\n",
        "highest_attendance_constituency = df[df['Attendance'] == highest_attendance]['Constituency'].iloc[0]\n",
        "print(\"Constituency of the Member with the highest Attendance is:\",highest_attendance_constituency)"
      ],
      "metadata": {
        "colab": {
          "base_uri": "https://localhost:8080/"
        },
        "id": "AZvylGZjSIcP",
        "outputId": "c7e0b814-35bd-4a5b-c414-12fe74b74a8d"
      },
      "execution_count": 95,
      "outputs": [
        {
          "output_type": "stream",
          "name": "stdout",
          "text": [
            "Constituency of the Member with the highest Attendance is: Chandauli\n"
          ]
        }
      ]
    },
    {
      "cell_type": "code",
      "source": [
        "#Mean Attendance of the Loksabha\n",
        "df[\"Attendance\"].replace('M', np.nan).mean()"
      ],
      "metadata": {
        "colab": {
          "base_uri": "https://localhost:8080/"
        },
        "id": "8MYi0nJuRg-_",
        "outputId": "182aed25-e09f-4064-d384-8a0961e8406a"
      },
      "execution_count": 118,
      "outputs": [
        {
          "output_type": "execute_result",
          "data": {
            "text/plain": [
              "20.973333333333333"
            ]
          },
          "metadata": {},
          "execution_count": 118
        }
      ]
    },
    {
      "cell_type": "code",
      "source": [
        "# Number of Member in each State\n",
        "state_counts = df['State'].value_counts()\n",
        "print(\"Number of Members in each State:\")\n",
        "print(state_counts)"
      ],
      "metadata": {
        "colab": {
          "base_uri": "https://localhost:8080/"
        },
        "id": "iaUgqADLS3m0",
        "outputId": "00546e9d-af71-4aaa-ee2d-eb1b92689372"
      },
      "execution_count": 110,
      "outputs": [
        {
          "output_type": "stream",
          "name": "stdout",
          "text": [
            "Number of Members in each State:\n",
            "State\n",
            "Uttar Pradesh                                                   75\n",
            "Maharashtra                                                     42\n",
            "Bihar                                                           39\n",
            "West Bengal                                                     37\n",
            "Andhra Pradesh                                                  37\n",
            "Tamil Nadu                                                      31\n",
            "Madhya Pradesh                                                  27\n",
            "Karnataka                                                       25\n",
            "Gujarat                                                         24\n",
            "Rajasthan                                                       21\n",
            "Orissa                                                          20\n",
            "Kerala                                                          19\n",
            "Assam                                                           14\n",
            "Punjab                                                          13\n",
            "Jharkhand                                                       12\n",
            "Haryana                                                         10\n",
            "Chhattisgarh                                                    10\n",
            "Delhi                                                            5\n",
            "Jammu and Kashmir                                                5\n",
            "Uttarakhand                                                      5\n",
            "Himachal Pradesh                                                 3\n",
            "Manipur                                                          2\n",
            "Tripura                                                          2\n",
            "Meghalaya                                                        2\n",
            "Goa                                                              2\n",
            "Arunachal Pradesh                                                2\n",
            "Sikkim                                                           1\n",
            "Nagaland                                                         1\n",
            "Mizoram                                                          1\n",
            "Lakshadweep                                                      1\n",
            "Andaman and Nicobar Islands                                      1\n",
            "Daman and Diu                                                    1\n",
            "Dadra and Nagar Haveli                                           1\n",
            "Name: count, dtype: int64\n"
          ]
        }
      ]
    },
    {
      "cell_type": "code",
      "source": [
        "# Name all minisgters (they don't punch Attendance)\n",
        "ministers = df[df['Attendance'] == 'M']['Member']\n",
        "print(\"Ministers:\")\n",
        "print(ministers)"
      ],
      "metadata": {
        "colab": {
          "base_uri": "https://localhost:8080/"
        },
        "id": "mrjiykNYUOrZ",
        "outputId": "13d1f8cb-8643-4e9e-f0e9-dee87307afa8"
      },
      "execution_count": 111,
      "outputs": [
        {
          "output_type": "stream",
          "name": "stdout",
          "text": [
            "Ministers:\n",
            "1      Shri  Kapil  Sibal                            ...\n",
            "2      Shri  Ajit  Singh                             ...\n",
            "3      Shri  Paban Singh  Ghatowar                   ...\n",
            "4      Kumari    Selja                               ...\n",
            "5      Shri  V. Kishore Chandra S.  Deo              ...\n",
            "6      Shri  Beni Prasad  Verma                      ...\n",
            "7      Shri  Dinsha  Patel                           ...\n",
            "8      Shri  Harish  Rawat                           ...\n",
            "9      Smt.  Chandresh  Kumari                       ...\n",
            "10     Prof.  K.V.  Thomas                           ...\n",
            "11     Shri  Jyotiraditya Madhavrao  Scindia         ...\n",
            "12     Shri  Jitender  Singh                         ...\n",
            "13     Shri  Manish  Tewari                          ...\n",
            "14     Shri  Mullappally  Ramachandran               ...\n",
            "15     Smt.    Preneet Kaur                          ...\n",
            "16     Dr.  Tusharbhai   A.  Chaudhari               ...\n",
            "17     Shri  Pratik  Patil                           ...\n",
            "18     Shri  R.P.N.  Singh                           ...\n",
            "19     Dr.  Shashi  Tharoor                          ...\n",
            "20     Shri  K. C.  Venugopal                        ...\n",
            "21     Dr.  Charan Das  Mahant                       ...\n",
            "22     Shri  Milind  Deora                           ...\n",
            "23     Shri    Kodikunnil  Suresh                    ...\n",
            "25     Shri  K. J.S.P.  Reddy                        ...\n",
            "26     Shri  A.H.   Khan  Choudhury                  ...\n",
            "27     Shri  Adhir Ranjan  Chowdhury                 ...\n",
            "28     Smt.  Ranee  Narah                            ...\n",
            "29     Shri   Sarvey  Sathyanarayana                 ...\n",
            "30     Shri  Ninong  Ering                           ...\n",
            "31     Smt.  Deepa  Dasmunsi                         ...\n",
            "32     Shri  P.  Balram  Naik                        ...\n",
            "33     Dr.  Krupa Rani  Killi                        ...\n",
            "34     Shri  Lal Chand  Kataria                      ...\n",
            "37     Shri  Arun  Yadav                             ...\n",
            "42     Shri  Vincent H.  Pala                        ...\n",
            "49     Shri  Vijay Inder  Singla                     ...\n",
            "61     Shri  Manikrao Hodlya  Gavit                  ...\n",
            "63     Shri  Bijoy Krishna  Handique                 ...\n",
            "79     Shri  Subodh Kant  Sahay                      ...\n",
            "90     Km.  Agatha K.  Sangma                        ...\n",
            "317    Shri  Anandrao  Adsul                         ...\n",
            "Name: Member, dtype: object\n"
          ]
        }
      ]
    }
  ]
}